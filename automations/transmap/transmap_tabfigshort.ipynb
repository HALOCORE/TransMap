{
 "cells": [
  {
   "cell_type": "markdown",
   "metadata": {},
   "source": [
    "### _logviz_db init"
   ]
  },
  {
   "cell_type": "code",
   "execution_count": 1,
   "metadata": {},
   "outputs": [
    {
     "data": {
      "text/html": [
       "<h2 style='color:green;'><i>IPython.display</i> is working</h2>"
      ],
      "text/plain": [
       "<IPython.core.display.HTML object>"
      ]
     },
     "metadata": {},
     "output_type": "display_data"
    }
   ],
   "source": [
    "# ============== LogViz Initialize ==============\n",
    "import json\n",
    "import requests\n",
    "def read_json(filename): \n",
    "  with open(filename, 'r') as f: return json.load(f)\n",
    "LOGVIZ_CONFIG = read_json(\"./logviz.private.json\")\n",
    "WEBDIS_ENDPOINT = LOGVIZ_CONFIG[\"WEBDIS_API_ENDPOINT\"]\n",
    "\n",
    "# def logviz_putjson(path, data):\n",
    "#   resp = requests.put(WEBDIS_ENDPOINT + \"/JSON.SET/\" + path + \"/$\", json=data)\n",
    "#   return resp.json()\n",
    "\n",
    "def logviz_getjson(path):\n",
    "  resp = requests.get(WEBDIS_ENDPOINT + \"/JSON.GET/\" + path + \"/$\")\n",
    "  return json.loads(resp.json()['JSON.GET'])[0]\n",
    "\n",
    "# ============== Jupyter Viz Initialize ==============\n",
    "from IPython.display import HTML, Markdown, display\n",
    "display(HTML(\"<h2 style='color:green;'><i>IPython.display</i> is working</h2>\"))\n",
    "# %pip install json2html\n",
    "# %pip install pandas\n",
    "# %pip install matplotlib\n",
    "import json2html\n",
    "# import pandas as pd\n",
    "import matplotlib.pyplot as plt\n",
    "\n",
    "def display_dict(datadict):\n",
    "  html = json2html.json2html.convert(datadict)\n",
    "  display(HTML(html))\n",
    "\n",
    "def display_md(md_str):\n",
    "  display(Markdown(md_str))"
   ]
  },
  {
   "cell_type": "code",
   "execution_count": 3,
   "metadata": {},
   "outputs": [
    {
     "data": {
      "text/markdown": [
       "## HumanEvalX"
      ],
      "text/plain": [
       "<IPython.core.display.Markdown object>"
      ]
     },
     "metadata": {},
     "output_type": "display_data"
    },
    {
     "data": {
      "text/html": [
       "<table border=\"1\"><tr><th>total_c</th><td>73</td></tr><tr><th>TOFIX_succ</th><td>4</td></tr><tr><th>TOFIX_unknown</th><td>0</td></tr><tr><th>TOFIX_syserr</th><td>4</td></tr><tr><th>err_total_c</th><td>69</td></tr><tr><th>err_syntax_c</th><td>13</td></tr><tr><th>err_sem_c</th><td>56</td></tr><tr><th>err_syntax_decl_c</th><td>0</td></tr><tr><th>err_syntax_tokif_c</th><td>1</td></tr><tr><th>err_syntax_tokfor_c</th><td>3</td></tr><tr><th>err_syntax_lval_c</th><td>0</td></tr><tr><th>err_runtime_c</th><td>15</td></tr><tr><th>err_runtime_ref_c</th><td>3</td></tr><tr><th>err_runtime_type_c</th><td>11</td></tr><tr><th>err_mismatch_c</th><td>41</td></tr><tr><th>diag_sound_c</th><td>50</td></tr><tr><th>diag_last_sound_c</th><td>49</td></tr><tr><th>diag_lc_avg</th><td>1.183673469387755</td></tr><tr><th>diag_ratio_avg</th><td>0.10897018299620068</td></tr><tr><th>symptom_yes_c</th><td>13</td></tr><tr><th>symptom_no_c</th><td>43</td></tr><tr><th>symptom_no_diag_sound_c</th><td>38</td></tr><tr><th>err_mism_diag_sound_c</th><td>36</td></tr><tr><th>diag_succ_ratio</th><td>0.875</td></tr><tr><th>diag_symno_ratio</th><td>0.8837209302325582</td></tr><tr><th>diag_mism_ratio</th><td>0.8780487804878049</td></tr></table>"
      ],
      "text/plain": [
       "<IPython.core.display.HTML object>"
      ]
     },
     "metadata": {},
     "output_type": "display_data"
    },
    {
     "data": {
      "text/markdown": [
       "## GFG"
      ],
      "text/plain": [
       "<IPython.core.display.Markdown object>"
      ]
     },
     "metadata": {},
     "output_type": "display_data"
    },
    {
     "data": {
      "text/html": [
       "<table border=\"1\"><tr><th>total_c</th><td>257</td></tr><tr><th>TOFIX_succ</th><td>21</td></tr><tr><th>TOFIX_unknown</th><td>0</td></tr><tr><th>TOFIX_syserr</th><td>33</td></tr><tr><th>err_total_c</th><td>236</td></tr><tr><th>err_syntax_c</th><td>16</td></tr><tr><th>err_sem_c</th><td>219</td></tr><tr><th>err_syntax_decl_c</th><td>0</td></tr><tr><th>err_syntax_tokif_c</th><td>8</td></tr><tr><th>err_syntax_tokfor_c</th><td>3</td></tr><tr><th>err_syntax_lval_c</th><td>0</td></tr><tr><th>err_runtime_c</th><td>106</td></tr><tr><th>err_runtime_ref_c</th><td>52</td></tr><tr><th>err_runtime_type_c</th><td>54</td></tr><tr><th>err_mismatch_c</th><td>113</td></tr><tr><th>diag_sound_c</th><td>198</td></tr><tr><th>diag_last_sound_c</th><td>194</td></tr><tr><th>diag_lc_avg</th><td>1.11340206185567</td></tr><tr><th>diag_ratio_avg</th><td>0.07438307132535353</td></tr><tr><th>symptom_yes_c</th><td>86</td></tr><tr><th>symptom_no_c</th><td>133</td></tr><tr><th>symptom_no_diag_sound_c</th><td>115</td></tr><tr><th>err_mism_diag_sound_c</th><td>100</td></tr><tr><th>diag_succ_ratio</th><td>0.8858447488584474</td></tr><tr><th>diag_symno_ratio</th><td>0.8646616541353384</td></tr><tr><th>diag_mism_ratio</th><td>0.8849557522123894</td></tr></table>"
      ],
      "text/plain": [
       "<IPython.core.display.HTML object>"
      ]
     },
     "metadata": {},
     "output_type": "display_data"
    },
    {
     "data": {
      "text/markdown": [
       "## LeetCode"
      ],
      "text/plain": [
       "<IPython.core.display.Markdown object>"
      ]
     },
     "metadata": {},
     "output_type": "display_data"
    },
    {
     "data": {
      "text/html": [
       "<table border=\"1\"><tr><th>total_c</th><td>511</td></tr><tr><th>TOFIX_succ</th><td>51</td></tr><tr><th>TOFIX_unknown</th><td>0</td></tr><tr><th>TOFIX_syserr</th><td>50</td></tr><tr><th>err_total_c</th><td>460</td></tr><tr><th>err_syntax_c</th><td>86</td></tr><tr><th>err_sem_c</th><td>373</td></tr><tr><th>err_syntax_decl_c</th><td>2</td></tr><tr><th>err_syntax_tokif_c</th><td>41</td></tr><tr><th>err_syntax_tokfor_c</th><td>12</td></tr><tr><th>err_syntax_lval_c</th><td>11</td></tr><tr><th>err_runtime_c</th><td>179</td></tr><tr><th>err_runtime_ref_c</th><td>118</td></tr><tr><th>err_runtime_type_c</th><td>58</td></tr><tr><th>err_mismatch_c</th><td>194</td></tr><tr><th>diag_sound_c</th><td>350</td></tr><tr><th>diag_last_sound_c</th><td>327</td></tr><tr><th>diag_lc_avg</th><td>1.308868501529052</td></tr><tr><th>diag_ratio_avg</th><td>0.07228171719631117</td></tr><tr><th>symptom_yes_c</th><td>157</td></tr><tr><th>symptom_no_c</th><td>216</td></tr><tr><th>symptom_no_diag_sound_c</th><td>178</td></tr><tr><th>err_mism_diag_sound_c</th><td>159</td></tr><tr><th>diag_succ_ratio</th><td>0.8766756032171582</td></tr><tr><th>diag_symno_ratio</th><td>0.8240740740740741</td></tr><tr><th>diag_mism_ratio</th><td>0.8195876288659794</td></tr></table>"
      ],
      "text/plain": [
       "<IPython.core.display.HTML object>"
      ]
     },
     "metadata": {},
     "output_type": "display_data"
    }
   ],
   "source": [
    "stats_h = logviz_getjson(\"transmex:SUMMARY_PER_M-humanevalx-byinj.stats\")[\"scalar\"]\n",
    "stats_g = logviz_getjson(\"transmex:SUMMARY_PER_M-gfg-byinj.stats\")[\"scalar\"]\n",
    "stats_l = logviz_getjson(\"transmex:SUMMARY_PER_M-leetcode-byinj.stats\")[\"scalar\"]\n",
    "display_md(\"## HumanEvalX\")\n",
    "display_dict(stats_h)\n",
    "display_md(\"## GFG\")\n",
    "display_dict(stats_g)\n",
    "display_md(\"## LeetCode\")\n",
    "display_dict(stats_l)"
   ]
  },
  {
   "cell_type": "markdown",
   "metadata": {},
   "source": [
    "### Stat"
   ]
  },
  {
   "cell_type": "markdown",
   "metadata": {},
   "source": [
    "#### Set threshold of syntax minor"
   ]
  },
  {
   "cell_type": "code",
   "execution_count": 4,
   "metadata": {},
   "outputs": [],
   "source": [
    "threshold = 5"
   ]
  },
  {
   "cell_type": "markdown",
   "metadata": {},
   "source": [
    "#### Leetcode"
   ]
  },
  {
   "cell_type": "code",
   "execution_count": 5,
   "metadata": {},
   "outputs": [
    {
     "name": "stdout",
     "output_type": "stream",
     "text": [
      "minor: 16\n",
      "confused: 70\n"
     ]
    }
   ],
   "source": [
    "import jellyfish\n",
    "tabular_l = logviz_getjson(\"transmex:SUMMARY_PER_M-leetcode-byinj.tabular\")\n",
    "tab_l = tabular_l[\"tabular_data\"]\n",
    "\n",
    "filter_from_dict_f = lambda d, f: {k:d[k] for k in d if f(d[k])}\n",
    "# filter\n",
    "has_symptom_filter = lambda x: not (\"SUCCESS\" in x[\"symptom_cls\"] or \"-UNKNOWN-\" in x[\"symptom_cls\"])\n",
    "syntax_err_filter = lambda x: \"SYNTAX_ERR\" in x[\"symptom_cls\"]\n",
    "\n",
    "hassymp_data = filter_from_dict_f(tab_l, has_symptom_filter)\n",
    "syntaxerr_data = filter_from_dict_f(hassymp_data, syntax_err_filter)\n",
    "\n",
    "minor_list = []\n",
    "confused_list = []\n",
    "\n",
    "for err in syntaxerr_data.keys():\n",
    "  index, inject_pos = err.split('.')\n",
    "  inject_pos = int(inject_pos)\n",
    "\n",
    "  with open(f'../../data/transmap/tests/evalex/leetcode/py_js_codex0err/{index}/injects.json', 'r') as f:\n",
    "    json_list = json.load(f)\n",
    "  \n",
    "  inject = json_list[inject_pos]\n",
    "  content = inject['content']\n",
    "  replacement = inject['replacement']\n",
    "  levenshtein_distance = jellyfish.levenshtein_distance(content, replacement)\n",
    "\n",
    "  if levenshtein_distance <= threshold:\n",
    "    minor_list.append(index)\n",
    "  else:\n",
    "    confused_list.append(index)\n",
    "\n",
    "minor_num_l = len(minor_list)\n",
    "confused_num_l = len(confused_list)\n",
    "\n",
    "print(f\"minor: {minor_num_l}\")\n",
    "print(f\"confused: {confused_num_l}\")"
   ]
  },
  {
   "cell_type": "code",
   "execution_count": 6,
   "metadata": {},
   "outputs": [
    {
     "name": "stdout",
     "output_type": "stream",
     "text": [
      "\n",
      "% ---------------- Leetcode\n",
      "% ---------------- overview\n",
      "\\newcommand{\\ltotal}{511}\n",
      "\\newcommand{\\ltotalerr}{459}\n",
      "\\newcommand{\\lsynerr}{86}\n",
      "\\newcommand{\\lsemerr}{373}\n",
      "% ---------------- baseline\n",
      "\\newcommand{\\lbaselinesucc}{157}\n",
      "\\newcommand{\\lbaselinesuccratio}{42.09\\%}\n",
      "% ---------------- transmap\n",
      "\\newcommand{\\ltransmapsucc}{327}\n",
      "\\newcommand{\\ltransmapsuccratio}{87.67\\%}\n",
      "\\newcommand{\\ltransmapsuccwhenbaselinefail}{178}\n",
      "\\newcommand{\\ltransmapsuccwhenbaselinefailratio}{82.41\\%}\n",
      "\\newcommand{\\lmismatcherrsucc}{159}\n",
      "\\newcommand{\\lmismatcherrsuccratio}{81.96\\%}\n",
      "\\newcommand{\\lsuspiciouslinesizeavg}{1.31}\n",
      "\\newcommand{\\lsuspiciousratioavg}{7.23\\%}\n",
      "% ---------------- syntax_err_type\n",
      "\\newcommand{\\lsynminor}{16}\n",
      "\\newcommand{\\lsynconfused}{70}\n",
      "% ---------------- sem_err_type\n",
      "\\newcommand{\\lruntime}{179}\n",
      "\\newcommand{\\lruntimeref}{118}\n",
      "\\newcommand{\\lruntimetype}{58}\n",
      "\\newcommand{\\lruntimeother}{3}\n",
      "\\newcommand{\\lmismatch}{194}\n",
      "\n"
     ]
    }
   ],
   "source": [
    "print(\"\"\"\n",
    "% ---------------- Leetcode\n",
    "% ---------------- overview\n",
    "\\\\newcommand{\\\\ltotal}{L_TOTAL_C}\n",
    "\\\\newcommand{\\\\ltotalerr}{L_TOTAL_ERR_C}\n",
    "\\\\newcommand{\\\\lsynerr}{L_SYN_ERR}\n",
    "\\\\newcommand{\\\\lsemerr}{L_SEM_ERR}\n",
    "% ---------------- baseline\n",
    "\\\\newcommand{\\\\lbaselinesucc}{L_SIMP_YES_C}\n",
    "\\\\newcommand{\\\\lbaselinesuccratio}{L_SIMP_YES_RATIO}\n",
    "% ---------------- transmap\n",
    "\\\\newcommand{\\\\ltransmapsucc}{L_LAST_SOUND_C}\n",
    "\\\\newcommand{\\\\ltransmapsuccratio}{L_SUCC_RATIO}\n",
    "\\\\newcommand{\\\\ltransmapsuccwhenbaselinefail}{L_SYMPTOM_NO_SOUND_C}\n",
    "\\\\newcommand{\\\\ltransmapsuccwhenbaselinefailratio}{L_SYMPTOM_NO_SUCC_RATIO}\n",
    "\\\\newcommand{\\\\lmismatcherrsucc}{L_MISMATCH_SOUND_C}\n",
    "\\\\newcommand{\\\\lmismatcherrsuccratio}{L_MISMATCH_SUCC_RATIO}\n",
    "\\\\newcommand{\\\\lsuspiciouslinesizeavg}{L_LC_AVG}\n",
    "\\\\newcommand{\\\\lsuspiciousratioavg}{L_LC_RATIO_AVG}\n",
    "% ---------------- syntax_err_type\n",
    "\\\\newcommand{\\\\lsynminor}{L_SYN_MINOR_C}\n",
    "\\\\newcommand{\\\\lsynconfused}{L_SYN_CONFUSED_C}\n",
    "% ---------------- sem_err_type\n",
    "\\\\newcommand{\\\\lruntime}{L_RUNTIME_C}\n",
    "\\\\newcommand{\\\\lruntimeref}{L_RUNTIME_REF_C}\n",
    "\\\\newcommand{\\\\lruntimetype}{L_RUNTIME_TYPE_C}\n",
    "\\\\newcommand{\\\\lruntimeother}{L_RUNTIME_OTHER_C}\n",
    "\\\\newcommand{\\\\lmismatch}{L_MISMATCH_C}\n",
    "\"\"\"\n",
    ".replace(\"L_TOTAL_C\", str(stats_l[\"total_c\"]))\n",
    ".replace(\"L_TOTAL_ERR_C\", str(stats_l[\"err_syntax_c\"]+stats_l[\"err_sem_c\"]))\n",
    ".replace(\"L_SYN_ERR\", str(stats_l[\"err_syntax_c\"]))\n",
    ".replace(\"L_SEM_ERR\", str(stats_l[\"err_sem_c\"]))\n",
    "\n",
    ".replace(\"L_SIMP_YES_C\", str(stats_l[\"symptom_yes_c\"]))\n",
    ".replace(\"L_SIMP_YES_RATIO\", \"{:.2%}\".format(stats_l[\"symptom_yes_c\"]/stats_l[\"err_sem_c\"]).replace('%','\\%'))\n",
    "\n",
    ".replace(\"L_LAST_SOUND_C\", str(stats_l[\"diag_last_sound_c\"]))\n",
    ".replace(\"L_SUCC_RATIO\", \"{:.2%}\".format(stats_l[\"diag_succ_ratio\"]).replace('%','\\%'))\n",
    ".replace(\"L_SYMPTOM_NO_SOUND_C\", str(stats_l[\"symptom_no_diag_sound_c\"]))\n",
    ".replace(\"L_SYMPTOM_NO_SUCC_RATIO\", \"{:.2%}\".format(stats_l[\"diag_symno_ratio\"]).replace('%','\\%'))\n",
    ".replace(\"L_MISMATCH_SOUND_C\", str(stats_l[\"err_mism_diag_sound_c\"]))\n",
    ".replace(\"L_MISMATCH_SUCC_RATIO\", \"{:.2%}\".format(stats_l[\"diag_mism_ratio\"]).replace('%','\\%'))\n",
    ".replace(\"L_LC_AVG\", \"{:.3}\".format(stats_l[\"diag_lc_avg\"]))\n",
    ".replace(\"L_LC_RATIO_AVG\", \"{:.2%}\".format(stats_l[\"diag_ratio_avg\"]).replace('%','\\%'))\n",
    "\n",
    ".replace(\"L_SYN_MINOR_C\", str(minor_num_l))\n",
    ".replace(\"L_SYN_CONFUSED_C\", str(confused_num_l))\n",
    "\n",
    ".replace(\"L_RUNTIME_C\", str(stats_l[\"err_runtime_c\"]))\n",
    ".replace(\"L_RUNTIME_REF_C\", str(stats_l[\"err_runtime_ref_c\"]))\n",
    ".replace(\"L_RUNTIME_TYPE_C\", str(stats_l[\"err_runtime_type_c\"]))\n",
    ".replace(\"L_RUNTIME_OTHER_C\", str(stats_l[\"err_runtime_c\"]-stats_l[\"err_runtime_ref_c\"]-stats_l[\"err_runtime_type_c\"]))\n",
    ".replace(\"L_MISMATCH_C\", str(stats_l[\"err_mismatch_c\"]))\n",
    ")"
   ]
  },
  {
   "cell_type": "markdown",
   "metadata": {},
   "source": [
    "#### GFG"
   ]
  },
  {
   "cell_type": "code",
   "execution_count": 7,
   "metadata": {},
   "outputs": [
    {
     "name": "stdout",
     "output_type": "stream",
     "text": [
      "minor: 2\n",
      "confused: 14\n"
     ]
    }
   ],
   "source": [
    "import jellyfish\n",
    "tabular_g = logviz_getjson(\"transmex:SUMMARY_PER_M-gfg-byinj.tabular\")\n",
    "tab_g = tabular_g[\"tabular_data\"]\n",
    "\n",
    "filter_from_dict_f = lambda d, f: {k:d[k] for k in d if f(d[k])}\n",
    "# filter\n",
    "has_symptom_filter = lambda x: not (\"SUCCESS\" in x[\"symptom_cls\"] or \"-UNKNOWN-\" in x[\"symptom_cls\"])\n",
    "syntax_err_filter = lambda x: \"SYNTAX_ERR\" in x[\"symptom_cls\"]\n",
    "\n",
    "hassymp_data = filter_from_dict_f(tab_g, has_symptom_filter)\n",
    "syntaxerr_data = filter_from_dict_f(hassymp_data, syntax_err_filter)\n",
    "\n",
    "minor_list = []\n",
    "confused_list = []\n",
    "\n",
    "for err in syntaxerr_data.keys():\n",
    "  index, inject_pos = err.split('.')\n",
    "  inject_pos = int(inject_pos)\n",
    "\n",
    "  with open(f'../../data/transmap/tests/evalex/gfg/py_js_codex0err/{index}/injects.json', 'r') as f:\n",
    "    json_list = json.load(f)\n",
    "  \n",
    "  inject = json_list[inject_pos]\n",
    "  content = inject['content']\n",
    "  replacement = inject['replacement']\n",
    "  levenshtein_distance = jellyfish.levenshtein_distance(content, replacement)\n",
    "\n",
    "  if levenshtein_distance <= threshold:\n",
    "    minor_list.append(index)\n",
    "  else:\n",
    "    confused_list.append(index)\n",
    "\n",
    "minor_num_g = len(minor_list)\n",
    "confused_num_g = len(confused_list)\n",
    "\n",
    "print(f\"minor: {minor_num_g}\")\n",
    "print(f\"confused: {confused_num_g}\")"
   ]
  },
  {
   "cell_type": "code",
   "execution_count": 8,
   "metadata": {},
   "outputs": [
    {
     "name": "stdout",
     "output_type": "stream",
     "text": [
      "\n",
      "% ---------------- GFG\n",
      "% ---------------- overview\n",
      "\\newcommand{\\gtotal}{257}\n",
      "\\newcommand{\\gtotalerr}{235}\n",
      "\\newcommand{\\gsynerr}{16}\n",
      "\\newcommand{\\gsemerr}{219}\n",
      "% ---------------- baseline\n",
      "\\newcommand{\\gbaselinesucc}{86}\n",
      "\\newcommand{\\gbaselinesuccratio}{39.27\\%}\n",
      "% ---------------- transmap\n",
      "\\newcommand{\\gtransmapsucc}{194}\n",
      "\\newcommand{\\gtransmapsuccratio}{88.58\\%}\n",
      "\\newcommand{\\gtransmapsuccwhenbaselinefail}{115}\n",
      "\\newcommand{\\gtransmapsuccwhenbaselinefailratio}{86.47\\%}\n",
      "\\newcommand{\\gmismatcherrsucc}{100}\n",
      "\\newcommand{\\gmismatcherrsuccratio}{88.50\\%}\n",
      "\\newcommand{\\gsuspiciouslinesizeavg}{1.11}\n",
      "\\newcommand{\\gsuspiciousratioavg}{7.44\\%}\n",
      "% ---------------- syntax_err_type\n",
      "\\newcommand{\\gsynminor}{2}\n",
      "\\newcommand{\\gsynconfused}{14}\n",
      "% ---------------- sem_err_type\n",
      "\\newcommand{\\gruntime}{106}\n",
      "\\newcommand{\\gruntimeref}{52}\n",
      "\\newcommand{\\gruntimetype}{54}\n",
      "\\newcommand{\\gruntimeother}{0}\n",
      "\\newcommand{\\gmismatch}{113}\n",
      "\n"
     ]
    }
   ],
   "source": [
    "print(\"\"\"\n",
    "% ---------------- GFG\n",
    "% ---------------- overview\n",
    "\\\\newcommand{\\\\gtotal}{GFG_TOTAL_C}\n",
    "\\\\newcommand{\\\\gtotalerr}{GFG_TOTAL_ERR_C}\n",
    "\\\\newcommand{\\\\gsynerr}{GFG_SYN_ERR}\n",
    "\\\\newcommand{\\\\gsemerr}{GFG_SEM_ERR}\n",
    "% ---------------- baseline\n",
    "\\\\newcommand{\\\\gbaselinesucc}{GFG_SIMP_YES_C}\n",
    "\\\\newcommand{\\\\gbaselinesuccratio}{GFG_SIMP_YES_RATIO}\n",
    "% ---------------- transmap\n",
    "\\\\newcommand{\\\\gtransmapsucc}{GFG_LAST_SOUND_C}\n",
    "\\\\newcommand{\\\\gtransmapsuccratio}{GFG_SUCC_RATIO}\n",
    "\\\\newcommand{\\\\gtransmapsuccwhenbaselinefail}{GFG_SYMPTOM_NO_SOUND_C}\n",
    "\\\\newcommand{\\\\gtransmapsuccwhenbaselinefailratio}{GFG_SYMPTOM_NO_SUCC_RATIO}\n",
    "\\\\newcommand{\\\\gmismatcherrsucc}{GFG_MISMATCH_SOUND_C}\n",
    "\\\\newcommand{\\\\gmismatcherrsuccratio}{GFG_MISMATCH_SUCC_RATIO}\n",
    "\\\\newcommand{\\\\gsuspiciouslinesizeavg}{GFG_LC_AVG}\n",
    "\\\\newcommand{\\\\gsuspiciousratioavg}{GFG_LC_RATIO_AVG}\n",
    "% ---------------- syntax_err_type\n",
    "\\\\newcommand{\\\\gsynminor}{GFG_SYN_MINOR_C}\n",
    "\\\\newcommand{\\\\gsynconfused}{GFG_SYN_CONFUSED_C}\n",
    "% ---------------- sem_err_type\n",
    "\\\\newcommand{\\\\gruntime}{GFG_RUNTIME_C}\n",
    "\\\\newcommand{\\\\gruntimeref}{GFG_RUNTIME_REF_C}\n",
    "\\\\newcommand{\\\\gruntimetype}{GFG_RUNTIME_TYPE_C}\n",
    "\\\\newcommand{\\\\gruntimeother}{GFG_RUNTIME_OTHER_C}\n",
    "\\\\newcommand{\\\\gmismatch}{GFG_MISMATCH_C}\n",
    "\"\"\"\n",
    ".replace(\"GFG_TOTAL_C\", str(stats_g[\"total_c\"]))\n",
    ".replace(\"GFG_TOTAL_ERR_C\", str(stats_g[\"err_syntax_c\"]+stats_g[\"err_sem_c\"]))\n",
    ".replace(\"GFG_SYN_ERR\", str(stats_g[\"err_syntax_c\"]))\n",
    ".replace(\"GFG_SEM_ERR\", str(stats_g[\"err_sem_c\"]))\n",
    "\n",
    ".replace(\"GFG_SIMP_YES_C\", str(stats_g[\"symptom_yes_c\"]))\n",
    ".replace(\"GFG_SIMP_YES_RATIO\", \"{:.2%}\".format(stats_g[\"symptom_yes_c\"]/stats_g[\"err_sem_c\"]).replace('%','\\%'))\n",
    "\n",
    ".replace(\"GFG_LAST_SOUND_C\", str(stats_g[\"diag_last_sound_c\"]))\n",
    ".replace(\"GFG_SUCC_RATIO\", \"{:.2%}\".format(stats_g[\"diag_succ_ratio\"]).replace('%','\\%'))\n",
    ".replace(\"GFG_SYMPTOM_NO_SOUND_C\", str(stats_g[\"symptom_no_diag_sound_c\"]))\n",
    ".replace(\"GFG_SYMPTOM_NO_SUCC_RATIO\", \"{:.2%}\".format(stats_g[\"diag_symno_ratio\"]).replace('%','\\%'))\n",
    ".replace(\"GFG_MISMATCH_SOUND_C\", str(stats_g[\"err_mism_diag_sound_c\"]))\n",
    ".replace(\"GFG_MISMATCH_SUCC_RATIO\", \"{:.2%}\".format(stats_g[\"diag_mism_ratio\"]).replace('%','\\%'))\n",
    ".replace(\"GFG_LC_AVG\", \"{:.3}\".format(stats_g[\"diag_lc_avg\"]))\n",
    ".replace(\"GFG_LC_RATIO_AVG\", \"{:.2%}\".format(stats_g[\"diag_ratio_avg\"]).replace('%','\\%'))\n",
    "\n",
    ".replace(\"GFG_SYN_MINOR_C\", str(minor_num_g))\n",
    ".replace(\"GFG_SYN_CONFUSED_C\", str(confused_num_g))\n",
    "\n",
    ".replace(\"GFG_RUNTIME_C\", str(stats_g[\"err_runtime_c\"]))\n",
    ".replace(\"GFG_RUNTIME_REF_C\", str(stats_g[\"err_runtime_ref_c\"]))\n",
    ".replace(\"GFG_RUNTIME_TYPE_C\", str(stats_g[\"err_runtime_type_c\"]))\n",
    ".replace(\"GFG_RUNTIME_OTHER_C\", str(stats_g[\"err_runtime_c\"]-stats_g[\"err_runtime_ref_c\"]-stats_g[\"err_runtime_type_c\"]))\n",
    ".replace(\"GFG_MISMATCH_C\", str(stats_g[\"err_mismatch_c\"]))\n",
    ")"
   ]
  },
  {
   "cell_type": "markdown",
   "metadata": {},
   "source": [
    "#### HumanEvalX"
   ]
  },
  {
   "cell_type": "code",
   "execution_count": 9,
   "metadata": {},
   "outputs": [
    {
     "name": "stdout",
     "output_type": "stream",
     "text": [
      "minor: 2\n",
      "confused: 11\n"
     ]
    }
   ],
   "source": [
    "import jellyfish\n",
    "tabular_h = logviz_getjson(\"transmex:SUMMARY_PER_M-humanevalx-byinj.tabular\")\n",
    "tab_h = tabular_h[\"tabular_data\"]\n",
    "\n",
    "filter_from_dict_f = lambda d, f: {k:d[k] for k in d if f(d[k])}\n",
    "# filter\n",
    "has_symptom_filter = lambda x: not (\"SUCCESS\" in x[\"symptom_cls\"] or \"-UNKNOWN-\" in x[\"symptom_cls\"])\n",
    "syntax_err_filter = lambda x: \"SYNTAX_ERR\" in x[\"symptom_cls\"]\n",
    "\n",
    "hassymp_data = filter_from_dict_f(tab_h, has_symptom_filter)\n",
    "syntaxerr_data = filter_from_dict_f(hassymp_data, syntax_err_filter)\n",
    "\n",
    "minor_list = []\n",
    "confused_list = []\n",
    "\n",
    "for err in syntaxerr_data.keys():\n",
    "  index, inject_pos = err.split('.')\n",
    "  inject_pos = int(inject_pos)\n",
    "\n",
    "  with open(f'../../data/transmap/tests/evalex/humanevalx/py_js_codex0err/{index}/injects.json', 'r') as f:\n",
    "    json_list = json.load(f)\n",
    "  \n",
    "  inject = json_list[inject_pos]\n",
    "  content = inject['content']\n",
    "  replacement = inject['replacement']\n",
    "  levenshtein_distance = jellyfish.levenshtein_distance(content, replacement)\n",
    "\n",
    "  if levenshtein_distance <= threshold:\n",
    "    minor_list.append(index)\n",
    "  else:\n",
    "    confused_list.append(index)\n",
    "\n",
    "minor_num_h = len(minor_list)\n",
    "confused_num_h = len(confused_list)\n",
    "\n",
    "print(f\"minor: {minor_num_h}\")\n",
    "print(f\"confused: {confused_num_h}\")"
   ]
  },
  {
   "cell_type": "code",
   "execution_count": 10,
   "metadata": {},
   "outputs": [
    {
     "name": "stdout",
     "output_type": "stream",
     "text": [
      "\n",
      "% ---------------- HumanEvalX\n",
      "% ---------------- overview\n",
      "\\newcommand{\\htotal}{73}\n",
      "\\newcommand{\\htotalerr}{69}\n",
      "\\newcommand{\\hsynerr}{13}\n",
      "\\newcommand{\\hsemerr}{56}\n",
      "% ---------------- baseline\n",
      "\\newcommand{\\hbaselinesucc}{13}\n",
      "\\newcommand{\\hbaselinesuccratio}{23.21\\%}\n",
      "% ---------------- transmap\n",
      "\\newcommand{\\htransmapsucc}{49}\n",
      "\\newcommand{\\htransmapsuccratio}{87.50\\%}\n",
      "\\newcommand{\\htransmapsuccwhenbaselinefail}{38}\n",
      "\\newcommand{\\htransmapsuccwhenbaselinefailratio}{88.37\\%}\n",
      "\\newcommand{\\hmismatcherrsucc}{36}\n",
      "\\newcommand{\\hmismatcherrsuccratio}{87.80\\%}\n",
      "\\newcommand{\\hsuspiciouslinesizeavg}{1.18}\n",
      "\\newcommand{\\hsuspiciousratioavg}{10.90\\%}\n",
      "% ---------------- syntax_err_type\n",
      "\\newcommand{\\hsynminor}{2}\n",
      "\\newcommand{\\hsynconfused}{11}\n",
      "% ---------------- sem_err_type\n",
      "\\newcommand{\\hruntime}{15}\n",
      "\\newcommand{\\hruntimeref}{3}\n",
      "\\newcommand{\\hruntimetype}{11}\n",
      "\\newcommand{\\hruntimeother}{1}\n",
      "\\newcommand{\\hmismatch}{41}\n",
      "\n"
     ]
    }
   ],
   "source": [
    "print(\"\"\"\n",
    "% ---------------- HumanEvalX\n",
    "% ---------------- overview\n",
    "\\\\newcommand{\\\\htotal}{HUM_TOTAL_C}\n",
    "\\\\newcommand{\\\\htotalerr}{HUM_TOTAL_ERR_C}\n",
    "\\\\newcommand{\\\\hsynerr}{HUM_SYN_ERR}\n",
    "\\\\newcommand{\\\\hsemerr}{HUM_SEM_ERR}\n",
    "% ---------------- baseline\n",
    "\\\\newcommand{\\\\hbaselinesucc}{HUM_SIMP_YES_C}\n",
    "\\\\newcommand{\\\\hbaselinesuccratio}{HUM_SIMP_YES_RATIO}\n",
    "% ---------------- transmap\n",
    "\\\\newcommand{\\\\htransmapsucc}{HUM_LAST_SOUND_C}\n",
    "\\\\newcommand{\\\\htransmapsuccratio}{HUM_SUCC_RATIO}\n",
    "\\\\newcommand{\\\\htransmapsuccwhenbaselinefail}{HUM_SYMPTOM_NO_SOUND_C}\n",
    "\\\\newcommand{\\\\htransmapsuccwhenbaselinefailratio}{HUM_SYMPTOM_NO_SUCC_RATIO}\n",
    "\\\\newcommand{\\\\hmismatcherrsucc}{HUM_MISMATCH_SOUND_C}\n",
    "\\\\newcommand{\\\\hmismatcherrsuccratio}{HUM_MISMATCH_SUCC_RATIO}\n",
    "\\\\newcommand{\\\\hsuspiciouslinesizeavg}{HUM_LC_AVG}\n",
    "\\\\newcommand{\\\\hsuspiciousratioavg}{HUM_LC_RATIO_AVG}\n",
    "% ---------------- syntax_err_type\n",
    "\\\\newcommand{\\\\hsynminor}{HUM_SYN_MINOR_C}\n",
    "\\\\newcommand{\\\\hsynconfused}{HUM_SYN_CONFUSED_C}\n",
    "% ---------------- sem_err_type\n",
    "\\\\newcommand{\\\\hruntime}{HUM_RUNTIME_C}\n",
    "\\\\newcommand{\\\\hruntimeref}{HUM_RUNTIME_REF_C}\n",
    "\\\\newcommand{\\\\hruntimetype}{HUM_RUNTIME_TYPE_C}\n",
    "\\\\newcommand{\\\\hruntimeother}{HUM_RUNTIME_OTHER_C}\n",
    "\\\\newcommand{\\\\hmismatch}{HUM_MISMATCH_C}\n",
    "\"\"\"\n",
    ".replace(\"HUM_TOTAL_C\", str(stats_h[\"total_c\"]))\n",
    ".replace(\"HUM_TOTAL_ERR_C\", str(stats_h[\"err_syntax_c\"]+stats_h[\"err_sem_c\"]))\n",
    ".replace(\"HUM_SYN_ERR\", str(stats_h[\"err_syntax_c\"]))\n",
    ".replace(\"HUM_SEM_ERR\", str(stats_h[\"err_sem_c\"]))\n",
    "\n",
    ".replace(\"HUM_SIMP_YES_C\", str(stats_h[\"symptom_yes_c\"]))\n",
    ".replace(\"HUM_SIMP_YES_RATIO\", \"{:.2%}\".format(stats_h[\"symptom_yes_c\"]/stats_h[\"err_sem_c\"]).replace('%','\\%'))\n",
    "\n",
    ".replace(\"HUM_LAST_SOUND_C\", str(stats_h[\"diag_last_sound_c\"]))\n",
    ".replace(\"HUM_SUCC_RATIO\", \"{:.2%}\".format(stats_h[\"diag_succ_ratio\"]).replace('%','\\%'))\n",
    ".replace(\"HUM_SYMPTOM_NO_SOUND_C\", str(stats_h[\"symptom_no_diag_sound_c\"]))\n",
    ".replace(\"HUM_SYMPTOM_NO_SUCC_RATIO\", \"{:.2%}\".format(stats_h[\"diag_symno_ratio\"]).replace('%','\\%'))\n",
    ".replace(\"HUM_MISMATCH_SOUND_C\", str(stats_h[\"err_mism_diag_sound_c\"]))\n",
    ".replace(\"HUM_MISMATCH_SUCC_RATIO\", \"{:.2%}\".format(stats_h[\"diag_mism_ratio\"]).replace('%','\\%'))\n",
    ".replace(\"HUM_LC_AVG\", \"{:.3}\".format(stats_h[\"diag_lc_avg\"]))\n",
    ".replace(\"HUM_LC_RATIO_AVG\", \"{:.2%}\".format(stats_h[\"diag_ratio_avg\"]).replace('%','\\%'))\n",
    "\n",
    ".replace(\"HUM_SYN_MINOR_C\", str(minor_num_h))\n",
    ".replace(\"HUM_SYN_CONFUSED_C\", str(confused_num_h))\n",
    "\n",
    ".replace(\"HUM_RUNTIME_C\", str(stats_h[\"err_runtime_c\"]))\n",
    ".replace(\"HUM_RUNTIME_REF_C\", str(stats_h[\"err_runtime_ref_c\"]))\n",
    ".replace(\"HUM_RUNTIME_TYPE_C\", str(stats_h[\"err_runtime_type_c\"]))\n",
    ".replace(\"HUM_RUNTIME_OTHER_C\", str(stats_h[\"err_runtime_c\"]-stats_h[\"err_runtime_ref_c\"]-stats_h[\"err_runtime_type_c\"]))\n",
    ".replace(\"HUM_MISMATCH_C\", str(stats_h[\"err_mismatch_c\"]))\n",
    ")"
   ]
  },
  {
   "cell_type": "markdown",
   "metadata": {},
   "source": [
    "#### Overall"
   ]
  },
  {
   "cell_type": "code",
   "execution_count": 11,
   "metadata": {},
   "outputs": [],
   "source": [
    "syn_err = stats_l[\"err_syntax_c\"] + stats_g[\"err_syntax_c\"] + stats_h[\"err_syntax_c\"]\n",
    "sem_err = stats_l[\"err_sem_c\"] + stats_g[\"err_sem_c\"] + stats_h[\"err_sem_c\"]\n",
    "all_err = syn_err + sem_err\n",
    "\n",
    "syn_ratio = syn_err / all_err\n",
    "sem_ratio = sem_err / all_err\n",
    "synminor = minor_num_l + minor_num_g + minor_num_h\n",
    "synminor_ratio = synminor / all_err\n",
    "synconfused = confused_num_l + confused_num_g + confused_num_h\n",
    "synconfused_ratio = synconfused / all_err\n",
    "synconfused_insyn_ratio = synconfused / syn_err\n",
    "\n",
    "runtime = stats_l[\"err_runtime_c\"] + stats_g[\"err_runtime_c\"] + stats_h[\"err_runtime_c\"]\n",
    "runtime_ratio = runtime / all_err\n",
    "runtimeref = stats_l[\"err_runtime_ref_c\"] + stats_g[\"err_runtime_ref_c\"] + stats_h[\"err_runtime_ref_c\"]\n",
    "runtimeref_ratio = runtimeref / all_err\n",
    "runtimetype = stats_l[\"err_runtime_type_c\"] + stats_g[\"err_runtime_type_c\"] + stats_h[\"err_runtime_type_c\"]\n",
    "runtimetype_ratio = runtimetype / all_err\n",
    "runtimeother = runtime - runtimeref - runtimetype\n",
    "runtimeother_ratio = runtimeother / all_err\n",
    "mismatch = stats_l[\"err_mismatch_c\"] + stats_g[\"err_mismatch_c\"] + stats_h[\"err_mismatch_c\"]\n",
    "mismatch_ratio = mismatch / all_err\n",
    "mismatch_insem_ratio = mismatch / sem_err\n",
    "\n",
    "avg_baselinesuccratio = ( \n",
    "    (stats_l[\"symptom_yes_c\"] + stats_g[\"symptom_yes_c\"] + stats_h[\"symptom_yes_c\"]) / \n",
    "    (stats_l[\"err_sem_c\"] + stats_g[\"err_sem_c\"] + stats_h[\"err_sem_c\"]) )\n",
    "avg_transmapsuccratio = (\n",
    "    (stats_l[\"diag_last_sound_c\"] + stats_g[\"diag_last_sound_c\"] + stats_h[\"diag_last_sound_c\"]) /\n",
    "    (stats_l[\"err_sem_c\"] + stats_g[\"err_sem_c\"] + stats_h[\"err_sem_c\"]) )\n",
    "avg_transmapsuccwhenbaselinefailratio = (\n",
    "    (stats_l[\"symptom_no_diag_sound_c\"] + stats_g[\"symptom_no_diag_sound_c\"] + stats_h[\"symptom_no_diag_sound_c\"]) / \n",
    "    (stats_l[\"symptom_no_c\"] + stats_g[\"symptom_no_c\"] + stats_h[\"symptom_no_c\"]) )\n",
    "avg_mismatcherrsuccratio = (\n",
    "    (stats_l[\"err_mism_diag_sound_c\"] + stats_g[\"err_mism_diag_sound_c\"] + stats_h[\"err_mism_diag_sound_c\"]) / \n",
    "    (stats_l[\"err_mismatch_c\"] + stats_g[\"err_mismatch_c\"] + stats_h[\"err_mismatch_c\"]) )\n",
    "avg_suspiciouslinesizeavg = (\n",
    "    (stats_l[\"diag_lc_avg\"]*stats_l[\"diag_last_sound_c\"] + stats_g[\"diag_lc_avg\"]*stats_g[\"diag_last_sound_c\"] + stats_h[\"diag_lc_avg\"]*stats_h[\"diag_last_sound_c\"]) / \n",
    "    (stats_l[\"diag_last_sound_c\"] + stats_g[\"diag_last_sound_c\"] + stats_h[\"diag_last_sound_c\"]) )\n",
    "avg_suspiciousratioavg = (\n",
    "    (stats_l[\"diag_ratio_avg\"]*stats_l[\"diag_last_sound_c\"] + stats_g[\"diag_ratio_avg\"]*stats_g[\"diag_last_sound_c\"] + stats_h[\"diag_ratio_avg\"]*stats_h[\"diag_last_sound_c\"]) /\n",
    "    (stats_l[\"diag_last_sound_c\"] + stats_g[\"diag_last_sound_c\"] + stats_h[\"diag_last_sound_c\"])\n",
    ")"
   ]
  },
  {
   "cell_type": "code",
   "execution_count": 12,
   "metadata": {},
   "outputs": [
    {
     "name": "stdout",
     "output_type": "stream",
     "text": [
      "\n",
      "% ---------------- Overall\n",
      "\\newcommand{\\totalerr}{763}\n",
      "% ---------------- syntax_err_type\n",
      "\\newcommand{\\synerr}{115}\n",
      "\\newcommand{\\synerrratio}{15.07\\%}\n",
      "\\newcommand{\\synminor}{20}\n",
      "\\newcommand{\\synminorratio}{2.62\\%}\n",
      "\\newcommand{\\synconfused}{95}\n",
      "\\newcommand{\\synconfusedratio}{12.45\\%}\n",
      "\\newcommand{\\synconfusedinsynerrratio}{82.61\\%}\n",
      "% ---------------- sem_err_type\n",
      "\\newcommand{\\semerr}{648}\n",
      "\\newcommand{\\semerrratio}{84.93\\%}\n",
      "\n",
      "\\newcommand{\\runtime}{300}\n",
      "\\newcommand{\\runtimeratio}{39.32\\%}\n",
      "\\newcommand{\\runtimeref}{173}\n",
      "\\newcommand{\\runtimerefratio}{22.67\\%}\n",
      "\\newcommand{\\runtimetype}{123}\n",
      "\\newcommand{\\runtimetyperatio}{16.12\\%}\n",
      "\\newcommand{\\runtimeother}{4}\n",
      "\\newcommand{\\runtimeotherratio}{0.52\\%}\n",
      "\n",
      "\\newcommand{\\mismatch}{348}\n",
      "\\newcommand{\\mismatchratio}{45.61\\%}\n",
      "\\newcommand{\\mismatchinsemratio}{53.70\\%}\n",
      "% ---------------- avg_statistics_benchmark(table performance)\n",
      "\\newcommand{\\avgbaselinesuccratio}{39.51\\%}\n",
      "\\newcommand{\\avgtransmapsuccratio}{87.96\\%}\n",
      "\\newcommand{\\avgtransmapsuccwhenbaselinefailratio}{84.44\\%}\n",
      "\\newcommand{\\avgmismatcherrsuccratio}{84.77\\%}\n",
      "\\newcommand{\\avgsuspiciouslinesizeavg}{1.23}\n",
      "\\newcommand{\\avgsuspiciousratioavg}{7.62\\%}\n",
      "\n"
     ]
    }
   ],
   "source": [
    "print(\"\"\"\n",
    "% ---------------- Overall\n",
    "\\\\newcommand{\\\\totalerr}{OVERALL_ERR_C}\n",
    "% ---------------- syntax_err_type\n",
    "\\\\newcommand{\\\\synerr}{OVERALL_SYN_ERR_C}\n",
    "\\\\newcommand{\\\\synerrratio}{OVERALL_SYN_ERR_RATIO}\n",
    "\\\\newcommand{\\\\synminor}{OVERALL_SYN_MINOR_C}\n",
    "\\\\newcommand{\\\\synminorratio}{OVERALL_SYN_MINOR_RATIO}\n",
    "\\\\newcommand{\\\\synconfused}{OVERALL_SYN_CONFUSED_C}\n",
    "\\\\newcommand{\\\\synconfusedratio}{OVERALL_SYN_CONFUSED_RATIO}\n",
    "\\\\newcommand{\\\\synconfusedinsynerrratio}{OVERALL_SYN_CONFUSED_IN_SYN_RATIO}\n",
    "% ---------------- sem_err_type\n",
    "\\\\newcommand{\\\\semerr}{OVERALL_SEM_ERR_C}\n",
    "\\\\newcommand{\\\\semerrratio}{OVERALL_SEM_ERR_RATIO}\n",
    "\n",
    "\\\\newcommand{\\\\runtime}{OVERALL_RUNTIME_C}\n",
    "\\\\newcommand{\\\\runtimeratio}{OVERALL_RUNTIME_RATIO}\n",
    "\\\\newcommand{\\\\runtimeref}{OVERALL_RUNTIME_REF_C}\n",
    "\\\\newcommand{\\\\runtimerefratio}{OVERALL_RUNTIME_REF_RATIO}\n",
    "\\\\newcommand{\\\\runtimetype}{OVERALL_RUNTIME_TYPE_C}\n",
    "\\\\newcommand{\\\\runtimetyperatio}{OVERALL_RUNTIME_TYPE_RATIO}\n",
    "\\\\newcommand{\\\\runtimeother}{OVERALL_RUNTIME_OTHER_C}\n",
    "\\\\newcommand{\\\\runtimeotherratio}{OVERALL_RUNTIME_OTHER_RATIO}\n",
    "\n",
    "\\\\newcommand{\\\\mismatch}{OVERALL_MISMATCH_C}\n",
    "\\\\newcommand{\\\\mismatchratio}{OVERALL_MISMATCH_RATIO}\n",
    "\\\\newcommand{\\\\mismatchinsemratio}{OVERALL_MISMATCH_SEM_RATIO}\n",
    "% ---------------- avg_statistics_benchmark(table performance)\n",
    "\\\\newcommand{\\\\avgbaselinesuccratio}{AVG_SIMP_YES_RATIO}\n",
    "\\\\newcommand{\\\\avgtransmapsuccratio}{AVG_SUCC_RATIO}\n",
    "\\\\newcommand{\\\\avgtransmapsuccwhenbaselinefailratio}{AVG_SYMPTOM_NO_SUCC_RATIO}\n",
    "\\\\newcommand{\\\\avgmismatcherrsuccratio}{AVG_MISMATCH_SUCC_RATIO}\n",
    "\\\\newcommand{\\\\avgsuspiciouslinesizeavg}{AVG_LC_AVG}\n",
    "\\\\newcommand{\\\\avgsuspiciousratioavg}{AVG_RATIO_AVG}\n",
    "\"\"\"\n",
    ".replace(\"OVERALL_ERR_C\", str(all_err))\n",
    "\n",
    ".replace(\"OVERALL_SYN_ERR_C\", str(syn_err))\n",
    ".replace(\"OVERALL_SYN_ERR_RATIO\", \"{:.2%}\".format(syn_ratio).replace('%','\\%'))\n",
    ".replace(\"OVERALL_SYN_MINOR_C\", str(synminor))\n",
    ".replace(\"OVERALL_SYN_MINOR_RATIO\", \"{:.2%}\".format(synminor_ratio).replace('%','\\%'))\n",
    ".replace(\"OVERALL_SYN_CONFUSED_C\", str(synconfused))\n",
    ".replace(\"OVERALL_SYN_CONFUSED_RATIO\", \"{:.2%}\".format(synconfused_ratio).replace('%','\\%'))\n",
    ".replace(\"OVERALL_SYN_CONFUSED_IN_SYN_RATIO\", \"{:.2%}\".format(synconfused_insyn_ratio).replace('%','\\%'))\n",
    "\n",
    ".replace(\"OVERALL_SEM_ERR_C\", str(sem_err))\n",
    ".replace(\"OVERALL_SEM_ERR_RATIO\", \"{:.2%}\".format(sem_ratio).replace('%','\\%'))\n",
    "\n",
    ".replace(\"OVERALL_RUNTIME_C\", str(runtime))\n",
    ".replace(\"OVERALL_RUNTIME_RATIO\", \"{:.2%}\".format(runtime_ratio).replace('%','\\%'))\n",
    ".replace(\"OVERALL_RUNTIME_REF_C\", str(runtimeref))\n",
    ".replace(\"OVERALL_RUNTIME_REF_RATIO\", \"{:.2%}\".format(runtimeref_ratio).replace('%','\\%'))\n",
    ".replace(\"OVERALL_RUNTIME_TYPE_C\", str(runtimetype))\n",
    ".replace(\"OVERALL_RUNTIME_TYPE_RATIO\", \"{:.2%}\".format(runtimetype_ratio).replace('%','\\%'))\n",
    ".replace(\"OVERALL_RUNTIME_OTHER_C\", str(runtimeother))\n",
    ".replace(\"OVERALL_RUNTIME_OTHER_RATIO\", \"{:.2%}\".format(runtimeother_ratio).replace('%','\\%'))\n",
    "\n",
    ".replace(\"OVERALL_MISMATCH_C\", str(mismatch))\n",
    ".replace(\"OVERALL_MISMATCH_RATIO\", \"{:.2%}\".format(mismatch_ratio).replace('%','\\%'))\n",
    ".replace(\"OVERALL_MISMATCH_SEM_RATIO\", \"{:.2%}\".format(mismatch_insem_ratio).replace('%','\\%'))\n",
    "                                                                           \n",
    ".replace(\"AVG_SIMP_YES_RATIO\", \"{:.2%}\".format(avg_baselinesuccratio).replace(\"%\", \"\\%\"))\n",
    ".replace(\"AVG_SUCC_RATIO\", \"{:.2%}\".format(avg_transmapsuccratio).replace(\"%\", \"\\%\"))\n",
    ".replace(\"AVG_SYMPTOM_NO_SUCC_RATIO\", \"{:.2%}\".format(avg_transmapsuccwhenbaselinefailratio).replace(\"%\", \"\\%\"))\n",
    ".replace(\"AVG_MISMATCH_SUCC_RATIO\", \"{:.2%}\".format(avg_mismatcherrsuccratio).replace(\"%\", \"\\%\"))\n",
    ".replace(\"AVG_LC_AVG\", \"{:.2f}\".format(avg_suspiciouslinesizeavg))\n",
    ".replace(\"AVG_RATIO_AVG\", \"{:.2%}\".format(avg_suspiciousratioavg).replace(\"%\", \"\\%\"))\n",
    ")"
   ]
  },
  {
   "cell_type": "markdown",
   "metadata": {},
   "source": [
    "#### Others"
   ]
  },
  {
   "cell_type": "code",
   "execution_count": 13,
   "metadata": {},
   "outputs": [],
   "source": [
    "runtimeerr_filter = lambda x: \"RUNTIME_ERR\" in x[\"symptom_cls\"]\n",
    "semerr_filter = lambda x: \"SEMERR\" in x[\"symptom_cls\"]\n",
    "baseline_fail_filter = lambda x: \"NO_E\" in x[\"symptom_yes\"]\n",
    "\n",
    "hassymp_data_l = filter_from_dict_f(tab_l, has_symptom_filter)\n",
    "runtimeerr_data_l = filter_from_dict_f(hassymp_data_l, runtimeerr_filter)\n",
    "runtimeerr_baseline_fail_data_l = filter_from_dict_f(runtimeerr_data_l, baseline_fail_filter)\n",
    "runtimeerr_baseline_fail_num_l = len(runtimeerr_baseline_fail_data_l)\n",
    "\n",
    "hassymp_data_g = filter_from_dict_f(tab_g, has_symptom_filter)\n",
    "runtimeerr_data_g = filter_from_dict_f(hassymp_data_g, runtimeerr_filter)\n",
    "runtimeerr_baseline_fail_data_g = filter_from_dict_f(runtimeerr_data_g, baseline_fail_filter)\n",
    "runtimeerr_baseline_fail_num_g = len(runtimeerr_baseline_fail_data_g)\n",
    "\n",
    "hassymp_data_h = filter_from_dict_f(tab_h, has_symptom_filter)\n",
    "runtimeerr_data_h = filter_from_dict_f(hassymp_data_h, runtimeerr_filter)\n",
    "runtimeerr_baseline_fail_data_h = filter_from_dict_f(runtimeerr_data_h, baseline_fail_filter)\n",
    "runtimeerr_baseline_fail_num_h = len(runtimeerr_baseline_fail_data_h)\n",
    "\n",
    "runtimeerr_baseline_fail_num = runtimeerr_baseline_fail_num_l + runtimeerr_baseline_fail_num_g + runtimeerr_baseline_fail_num_h\n",
    "runtimeerr_baseline_fail_inruntime_ratio = runtimeerr_baseline_fail_num / runtime\n",
    "runtimeerr_baseline_fail_insem_ratio = runtimeerr_baseline_fail_num / sem_err\n",
    "runtimeerr_baseline_fail_inall_ratio = runtimeerr_baseline_fail_num / all_err"
   ]
  },
  {
   "cell_type": "code",
   "execution_count": 14,
   "metadata": {},
   "outputs": [
    {
     "name": "stdout",
     "output_type": "stream",
     "text": [
      "\n",
      "% ---------------- Others\n",
      "\\newcommand{\\runtimebaselinefail}{44}\n",
      "\\newcommand{\\runtimebaselinefailinruntimeratio}{14.67\\%}\n",
      "\\newcommand{\\runtimebaselinefailinsemratio}{6.79\\%}\n",
      "\\newcommand{\\runtimebaselinefailinallratio}{5.77\\%}\n",
      "\n"
     ]
    }
   ],
   "source": [
    "print(\"\"\"\n",
    "% ---------------- Others\n",
    "\\\\newcommand{\\\\runtimebaselinefail}{RUNTIME_BASELINE_FAIL_C}\n",
    "\\\\newcommand{\\\\runtimebaselinefailinruntimeratio}{RUNTIME_BASELINE_FAIL_INRUMTIME_RATIO}\n",
    "\\\\newcommand{\\\\runtimebaselinefailinsemratio}{RUNTIME_BASELINE_FAIL_INSEM_RATIO}\n",
    "\\\\newcommand{\\\\runtimebaselinefailinallratio}{RUNTIME_BASELINE_FAIL_INALL_RATIO}\n",
    "\"\"\"\n",
    ".replace(\"RUNTIME_BASELINE_FAIL_C\", str(runtimeerr_baseline_fail_num))\n",
    ".replace(\"RUNTIME_BASELINE_FAIL_INRUMTIME_RATIO\", \"{:.2%}\".format(runtimeerr_baseline_fail_inruntime_ratio).replace('%','\\%'))\n",
    ".replace(\"RUNTIME_BASELINE_FAIL_INSEM_RATIO\", \"{:.2%}\".format(runtimeerr_baseline_fail_insem_ratio).replace('%','\\%'))\n",
    ".replace(\"RUNTIME_BASELINE_FAIL_INALL_RATIO\", \"{:.2%}\".format(runtimeerr_baseline_fail_inall_ratio).replace('%','\\%'))\n",
    ")"
   ]
  },
  {
   "cell_type": "code",
   "execution_count": null,
   "metadata": {},
   "outputs": [],
   "source": []
  }
 ],
 "metadata": {
  "kernelspec": {
   "display_name": "Python 3",
   "language": "python",
   "name": "python3"
  },
  "language_info": {
   "codemirror_mode": {
    "name": "ipython",
    "version": 3
   },
   "file_extension": ".py",
   "mimetype": "text/x-python",
   "name": "python",
   "nbconvert_exporter": "python",
   "pygments_lexer": "ipython3",
   "version": "3.8.10"
  },
  "orig_nbformat": 4,
  "vscode": {
   "interpreter": {
    "hash": "916dbcbb3f70747c44a77c7bcd40155683ae19c65e1c03b4aa3499c5328201f1"
   }
  }
 },
 "nbformat": 4,
 "nbformat_minor": 2
}
